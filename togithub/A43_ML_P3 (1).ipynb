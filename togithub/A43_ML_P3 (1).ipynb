{
  "nbformat": 4,
  "nbformat_minor": 0,
  "metadata": {
    "colab": {
      "provenance": []
    },
    "kernelspec": {
      "name": "python3",
      "display_name": "Python 3"
    },
    "language_info": {
      "name": "python"
    }
  },
  "cells": [
    {
      "cell_type": "markdown",
      "source": [
        "Name: Janak Mandavgade\n",
        "\n",
        "Sec : A\n",
        "\n",
        "Roll no : 43  \n",
        "\n",
        "Batch : A2\n",
        "\n",
        "Subject : ML Lab\n",
        "\n",
        "Aim : To implement Linear regression algorithm on given dataset of height and weight and print regression coefficient and regression line."
      ],
      "metadata": {
        "id": "bjEwejQbvoZL"
      }
    },
    {
      "cell_type": "code",
      "source": [
        "from statistics import mean\n",
        "import itertools"
      ],
      "metadata": {
        "id": "T-Dntpchhh_p"
      },
      "execution_count": null,
      "outputs": []
    },
    {
      "cell_type": "code",
      "source": [
        "x = [5.0,5.1,5.2,5.3,5.4,5.5,5.6,5.7,5.8]\n",
        "y = [53,55,59,61,65,68,70,74,76]"
      ],
      "metadata": {
        "id": "3jjaNXLFmzc1"
      },
      "execution_count": null,
      "outputs": []
    },
    {
      "cell_type": "code",
      "source": [
        "xm = mean(x)\n",
        "ym = mean(y)\n",
        "print(xm)\n",
        "print(ym)"
      ],
      "metadata": {
        "colab": {
          "base_uri": "https://localhost:8080/"
        },
        "outputId": "9a407ca1-7725-4c9f-b122-fa6bcb16d273",
        "id": "ufYIj-Cwmzc2"
      },
      "execution_count": null,
      "outputs": [
        {
          "output_type": "stream",
          "name": "stdout",
          "text": [
            "5.4\n",
            "64.55555555555556\n"
          ]
        }
      ]
    },
    {
      "cell_type": "code",
      "source": [
        "w1 = 0\n",
        "num = 0\n",
        "deno = 0\n",
        "for i in range(len(x)):\n",
        "    num = num + ((x[i] - xm) * (y[i]-ym))\n",
        "    deno = deno + (x[i]-xm)*(x[i]-xm)\n",
        "w1 = num/deno\n",
        "\n",
        "w0 = ym - w1 * xm\n",
        "print(\" y = x * \",w1 ,\"+\" , w0 )\n",
        "r = w1*(5.9) + w0\n",
        "r"
      ],
      "metadata": {
        "colab": {
          "base_uri": "https://localhost:8080/"
        },
        "outputId": "e9eee4e7-7b41-4c10-85f2-f73ae7352554",
        "id": "PnTtZV0dmzc3"
      },
      "execution_count": null,
      "outputs": [
        {
          "output_type": "stream",
          "name": "stdout",
          "text": [
            " y = x *  29.666666666666668 + -95.64444444444446\n"
          ]
        },
        {
          "output_type": "execute_result",
          "data": {
            "text/plain": [
              "79.3888888888889"
            ]
          },
          "metadata": {},
          "execution_count": 48
        }
      ]
    },
    {
      "cell_type": "code",
      "source": [],
      "metadata": {
        "id": "h04ZwgeSmzc3"
      },
      "execution_count": null,
      "outputs": []
    },
    {
      "cell_type": "code",
      "source": [],
      "metadata": {
        "id": "cWO5Pc_Bmzc4"
      },
      "execution_count": null,
      "outputs": []
    }
  ]
}