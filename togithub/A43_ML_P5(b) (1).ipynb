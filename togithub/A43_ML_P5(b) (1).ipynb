{
  "nbformat": 4,
  "nbformat_minor": 0,
  "metadata": {
    "colab": {
      "provenance": []
    },
    "kernelspec": {
      "name": "python3",
      "display_name": "Python 3"
    },
    "language_info": {
      "name": "python"
    }
  },
  "cells": [
    {
      "cell_type": "markdown",
      "source": [
        "Name: Janak Mandavgade\n",
        "\n",
        "Sec : A\n",
        "\n",
        "Roll no : 43  \n",
        "\n",
        "Batch : A2\n",
        "\n",
        "Subject : ML Lab\n",
        "\n",
        "Aim : Implementation of KNN algorithm for classification using Iris dataset."
      ],
      "metadata": {
        "id": "nqyeHjacir0f"
      }
    },
    {
      "cell_type": "code",
      "execution_count": null,
      "metadata": {
        "colab": {
          "base_uri": "https://localhost:8080/"
        },
        "id": "dcJJyDjVhbD5",
        "outputId": "183c57ca-864e-4e15-88ff-f756c43f1e6a"
      },
      "outputs": [
        {
          "output_type": "stream",
          "name": "stdout",
          "text": [
            "Confusion Matrix:\n",
            "[[19  0  0]\n",
            " [ 0 13  0]\n",
            " [ 0  0 13]]\n",
            "\n",
            "Classification Report:\n",
            "              precision    recall  f1-score   support\n",
            "\n",
            "           0       1.00      1.00      1.00        19\n",
            "           1       1.00      1.00      1.00        13\n",
            "           2       1.00      1.00      1.00        13\n",
            "\n",
            "    accuracy                           1.00        45\n",
            "   macro avg       1.00      1.00      1.00        45\n",
            "weighted avg       1.00      1.00      1.00        45\n",
            "\n"
          ]
        }
      ],
      "source": [
        "import numpy as np\n",
        "from sklearn import datasets\n",
        "from sklearn.model_selection import train_test_split\n",
        "from sklearn.neighbors import KNeighborsClassifier\n",
        "from sklearn.metrics import classification_report, confusion_matrix\n",
        "\n",
        "# Load the Iris dataset\n",
        "iris = datasets.load_iris()\n",
        "X = iris.data  # Features\n",
        "y = iris.target  # Target\n",
        "\n",
        "# Split the data into training and testing sets\n",
        "X_train, X_test, y_train, y_test = train_test_split(X, y, test_size=0.3, random_state=42)\n",
        "\n",
        "# Create a KNN classifier with a specified number of neighbors (e.g., k=3)\n",
        "k = 3\n",
        "knn_classifier = KNeighborsClassifier(n_neighbors=k)\n",
        "\n",
        "# Fit the model to the training data\n",
        "knn_classifier.fit(X_train, y_train)\n",
        "\n",
        "# Make predictions on the test data\n",
        "y_pred = knn_classifier.predict(X_test)\n",
        "\n",
        "# Evaluate the model\n",
        "confusion_mat = confusion_matrix(y_test, y_pred)\n",
        "classification_rep = classification_report(y_test, y_pred)\n",
        "\n",
        "print(\"Confusion Matrix:\")\n",
        "print(confusion_mat)\n",
        "print(\"\\nClassification Report:\")\n",
        "print(classification_rep)\n"
      ]
    },
    {
      "cell_type": "code",
      "source": [
        "# Assume you have new_data as a NumPy array with the same number of features as the Iris dataset\n",
        "new_data = np.array([[5.1, 3.5, 1.4, 0.2]])  # Replace with your own data\n",
        "\n",
        "# Use the trained KNN classifier to predict the class for new_data\n",
        "predicted_class = knn_classifier.predict(new_data)\n",
        "\n",
        "# Map the predicted class index to the actual class label\n",
        "predicted_class_label = iris.target_names[predicted_class[0]]\n",
        "\n",
        "print(f\"The predicted class for new_data is: {predicted_class_label}\")"
      ],
      "metadata": {
        "colab": {
          "base_uri": "https://localhost:8080/"
        },
        "id": "E-zsmx3KhffU",
        "outputId": "6c8cb8f5-b993-450d-d9ae-326e6c15a7e7"
      },
      "execution_count": null,
      "outputs": [
        {
          "output_type": "stream",
          "name": "stdout",
          "text": [
            "The predicted class for new_data is: setosa\n"
          ]
        }
      ]
    }
  ]
}