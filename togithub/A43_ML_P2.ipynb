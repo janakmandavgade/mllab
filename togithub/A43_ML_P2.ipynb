{
  "nbformat": 4,
  "nbformat_minor": 0,
  "metadata": {
    "colab": {
      "provenance": []
    },
    "kernelspec": {
      "name": "python3",
      "display_name": "Python 3"
    },
    "language_info": {
      "name": "python"
    }
  },
  "cells": [
    {
      "cell_type": "markdown",
      "source": [
        "Name: Janak Mandavgade\n",
        "\n",
        "Sec : A\n",
        "\n",
        "Roll no : 43  \n",
        "\n",
        "Batch : A2\n",
        "\n",
        "Subject : ML Lab\n",
        "\n",
        "Aim : To implement Candidate Elimination Algorithm on EnjoySports dataset and find candidate hypothesis."
      ],
      "metadata": {
        "id": "vydqfznNvbQq"
      }
    },
    {
      "cell_type": "code",
      "execution_count": null,
      "metadata": {
        "colab": {
          "base_uri": "https://localhost:8080/"
        },
        "id": "7W5hOXqkKAq3",
        "outputId": "a4b8f55e-f781-41ae-95fa-b7498fb449f4"
      },
      "outputs": [
        {
          "output_type": "stream",
          "name": "stdout",
          "text": [
            "Mounted at /content/gdrive\n"
          ]
        }
      ],
      "source": [
        "from google.colab import drive\n",
        "drive.mount('/content/gdrive')"
      ]
    },
    {
      "cell_type": "code",
      "source": [
        "import pandas as pd\n",
        "import numpy as np\n",
        "\n",
        "\n",
        "data = pd.read_csv(\"/content/gdrive/MyDrive/enjoysport.csv\")\n",
        "print(data)"
      ],
      "metadata": {
        "colab": {
          "base_uri": "https://localhost:8080/"
        },
        "id": "roz-WLPrKl7r",
        "outputId": "c1431361-7c3e-4ff6-fb59-c256faff6d6d"
      },
      "execution_count": null,
      "outputs": [
        {
          "output_type": "stream",
          "name": "stdout",
          "text": [
            "     sky airtemp humidity    wind water forcast enjoysport\n",
            "0  sunny    warm   normal  strong  warm    same        yes\n",
            "1  sunny    warm     high  strong  warm    same        yes\n",
            "2  rainy    cold     high  strong  warm  change         no\n",
            "3  sunny    warm     high  strong  cool  change        yes\n"
          ]
        }
      ]
    },
    {
      "cell_type": "code",
      "source": [
        "concepts = np.array(data)[:,:-1]\n",
        "print(concepts)"
      ],
      "metadata": {
        "colab": {
          "base_uri": "https://localhost:8080/"
        },
        "id": "hnmcQoRkKmAq",
        "outputId": "bc53b296-78a1-49e2-aebb-da9d97e086aa"
      },
      "execution_count": null,
      "outputs": [
        {
          "output_type": "stream",
          "name": "stdout",
          "text": [
            "[['sunny' 'warm' 'normal' 'strong' 'warm' 'same']\n",
            " ['sunny' 'warm' 'high' 'strong' 'warm' 'same']\n",
            " ['rainy' 'cold' 'high' 'strong' 'warm' 'change']\n",
            " ['sunny' 'warm' 'high' 'strong' 'cool' 'change']]\n"
          ]
        }
      ]
    },
    {
      "cell_type": "code",
      "source": [
        "target = np.array(data)[:,-1]\n",
        "print(target)"
      ],
      "metadata": {
        "colab": {
          "base_uri": "https://localhost:8080/"
        },
        "id": "UMUi4rajKmCz",
        "outputId": "7980bd83-8239-4b9f-faa9-a2acb26b6816"
      },
      "execution_count": null,
      "outputs": [
        {
          "output_type": "stream",
          "name": "stdout",
          "text": [
            "['yes' 'yes' 'no' 'yes']\n"
          ]
        }
      ]
    },
    {
      "cell_type": "code",
      "source": [
        "def learn(concepts, target):\n",
        "    specific_h = concepts[0].copy()\n",
        "    print(\"initialization of specific_h and general_h\")\n",
        "    print(specific_h)\n",
        "    general_h = [[\"?\" for i in range(len(specific_h))] for i in range(len(specific_h))]\n",
        "    print(general_h)\n",
        "    for i, h in enumerate(concepts):\n",
        "        if target[i] == \"yes\":\n",
        "            for x in range(len(specific_h)):\n",
        "                if h[x]!= specific_h[x]:\n",
        "                    specific_h[x] ='?'\n",
        "                    general_h[x][x] ='?'\n",
        "                print(specific_h)\n",
        "        print(specific_h)\n",
        "        if target[i] == \"no\":\n",
        "            for x in range(len(specific_h)):\n",
        "                if h[x]!= specific_h[x]:\n",
        "                    general_h[x][x] = specific_h[x]\n",
        "                else:\n",
        "                    general_h[x][x] = '?'\n",
        "        print(\" steps of Candidate Elimination Algorithm\",i+1)\n",
        "        print(specific_h)\n",
        "        print(general_h)\n",
        "    indices = [i for i, val in enumerate(general_h) if val == ['?', '?', '?', '?', '?', '?']]\n",
        "    for i in indices:\n",
        "        general_h.remove(['?', '?', '?', '?', '?', '?'])\n",
        "    return specific_h, general_h\n",
        "s_final, g_final = learn(concepts, target)\n",
        "print(\"Final Specific_h:\", s_final, sep=\"\\n\")\n",
        "print(\"Final General_h:\", g_final, sep=\"\\n\")"
      ],
      "metadata": {
        "colab": {
          "base_uri": "https://localhost:8080/"
        },
        "id": "rZ-QZL99Wdrz",
        "outputId": "3ac57535-3438-4d4b-ff77-fdb4bb1ba6da"
      },
      "execution_count": null,
      "outputs": [
        {
          "output_type": "stream",
          "name": "stdout",
          "text": [
            "initialization of specific_h and general_h\n",
            "['sunny' 'warm' 'normal' 'strong' 'warm' 'same']\n",
            "[['?', '?', '?', '?', '?', '?'], ['?', '?', '?', '?', '?', '?'], ['?', '?', '?', '?', '?', '?'], ['?', '?', '?', '?', '?', '?'], ['?', '?', '?', '?', '?', '?'], ['?', '?', '?', '?', '?', '?']]\n",
            "['sunny' 'warm' 'normal' 'strong' 'warm' 'same']\n",
            "['sunny' 'warm' 'normal' 'strong' 'warm' 'same']\n",
            "['sunny' 'warm' 'normal' 'strong' 'warm' 'same']\n",
            "['sunny' 'warm' 'normal' 'strong' 'warm' 'same']\n",
            "['sunny' 'warm' 'normal' 'strong' 'warm' 'same']\n",
            "['sunny' 'warm' 'normal' 'strong' 'warm' 'same']\n",
            "['sunny' 'warm' 'normal' 'strong' 'warm' 'same']\n",
            " steps of Candidate Elimination Algorithm 1\n",
            "['sunny' 'warm' 'normal' 'strong' 'warm' 'same']\n",
            "[['?', '?', '?', '?', '?', '?'], ['?', '?', '?', '?', '?', '?'], ['?', '?', '?', '?', '?', '?'], ['?', '?', '?', '?', '?', '?'], ['?', '?', '?', '?', '?', '?'], ['?', '?', '?', '?', '?', '?']]\n",
            "['sunny' 'warm' 'normal' 'strong' 'warm' 'same']\n",
            "['sunny' 'warm' 'normal' 'strong' 'warm' 'same']\n",
            "['sunny' 'warm' '?' 'strong' 'warm' 'same']\n",
            "['sunny' 'warm' '?' 'strong' 'warm' 'same']\n",
            "['sunny' 'warm' '?' 'strong' 'warm' 'same']\n",
            "['sunny' 'warm' '?' 'strong' 'warm' 'same']\n",
            "['sunny' 'warm' '?' 'strong' 'warm' 'same']\n",
            " steps of Candidate Elimination Algorithm 2\n",
            "['sunny' 'warm' '?' 'strong' 'warm' 'same']\n",
            "[['?', '?', '?', '?', '?', '?'], ['?', '?', '?', '?', '?', '?'], ['?', '?', '?', '?', '?', '?'], ['?', '?', '?', '?', '?', '?'], ['?', '?', '?', '?', '?', '?'], ['?', '?', '?', '?', '?', '?']]\n",
            "['sunny' 'warm' '?' 'strong' 'warm' 'same']\n",
            " steps of Candidate Elimination Algorithm 3\n",
            "['sunny' 'warm' '?' 'strong' 'warm' 'same']\n",
            "[['sunny', '?', '?', '?', '?', '?'], ['?', 'warm', '?', '?', '?', '?'], ['?', '?', '?', '?', '?', '?'], ['?', '?', '?', '?', '?', '?'], ['?', '?', '?', '?', '?', '?'], ['?', '?', '?', '?', '?', 'same']]\n",
            "['sunny' 'warm' '?' 'strong' 'warm' 'same']\n",
            "['sunny' 'warm' '?' 'strong' 'warm' 'same']\n",
            "['sunny' 'warm' '?' 'strong' 'warm' 'same']\n",
            "['sunny' 'warm' '?' 'strong' 'warm' 'same']\n",
            "['sunny' 'warm' '?' 'strong' '?' 'same']\n",
            "['sunny' 'warm' '?' 'strong' '?' '?']\n",
            "['sunny' 'warm' '?' 'strong' '?' '?']\n",
            " steps of Candidate Elimination Algorithm 4\n",
            "['sunny' 'warm' '?' 'strong' '?' '?']\n",
            "[['sunny', '?', '?', '?', '?', '?'], ['?', 'warm', '?', '?', '?', '?'], ['?', '?', '?', '?', '?', '?'], ['?', '?', '?', '?', '?', '?'], ['?', '?', '?', '?', '?', '?'], ['?', '?', '?', '?', '?', '?']]\n",
            "Final Specific_h:\n",
            "['sunny' 'warm' '?' 'strong' '?' '?']\n",
            "Final General_h:\n",
            "[['sunny', '?', '?', '?', '?', '?'], ['?', 'warm', '?', '?', '?', '?']]\n"
          ]
        }
      ]
    }
  ]
}