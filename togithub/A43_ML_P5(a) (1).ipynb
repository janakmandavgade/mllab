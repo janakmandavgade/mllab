{
  "nbformat": 4,
  "nbformat_minor": 0,
  "metadata": {
    "colab": {
      "provenance": []
    },
    "kernelspec": {
      "name": "python3",
      "display_name": "Python 3"
    },
    "language_info": {
      "name": "python"
    }
  },
  "cells": [
    {
      "cell_type": "markdown",
      "source": [
        "Name: Janak Mandavgade\n",
        "\n",
        "Sec : A\n",
        "\n",
        "Roll no : 43  \n",
        "\n",
        "Batch : A2\n",
        "\n",
        "Subject : ML Lab\n",
        "\n",
        "Aim : Implementation of KNN algorithm for regression as per given dataset."
      ],
      "metadata": {
        "id": "ah4lpwsoitAd"
      }
    },
    {
      "cell_type": "code",
      "execution_count": null,
      "metadata": {
        "colab": {
          "base_uri": "https://localhost:8080/"
        },
        "id": "CVnPUKJS0gR3",
        "outputId": "3629d2ff-60ec-45d2-ebd5-3f0a4ae06667"
      },
      "outputs": [
        {
          "output_type": "stream",
          "name": "stdout",
          "text": [
            "Predicted cost for (length=7.0, weight=8.0): 32.00\n"
          ]
        }
      ],
      "source": [
        "# Sample input data (length, weight, cost)\n",
        "length = [10.0, 11.0, 12.0, 7.0, 9.0, 8.0,6.0,15.0,14.0,7.0,10.0,13.0,9.0,5.0,5.0]\n",
        "weight = [15.0, 6.0 , 14.0 , 9.0 ,14.0,12.0,11.0,10.0,8.0,12.0,6.0,8.0,7.0,8.0,10.0]\n",
        "cost = [45,37,48,33,38,40,35,50,46,35,36,44,32,30,30]\n",
        "\n",
        "# Number of neighbors (k)\n",
        "k = 3\n",
        "\n",
        "# Test data (for prediction)\n",
        "test_length = 7.0\n",
        "test_weight = 8.0\n",
        "\n",
        "# Function to calculate Euclidean distance between two points\n",
        "def euclidean_distance(point1, point2):\n",
        "    return ((point1[0] - point2[0]) ** 2 + (point1[1] - point2[1]) ** 2) ** 0.5\n",
        "\n",
        "# Calculate distances to all data points and store them in a list of tuples (distance, cost)\n",
        "distances = [(euclidean_distance((test_length, test_weight), (length[i], weight[i])), cost[i]) for i in range(len(length))]\n",
        "\n",
        "# Sort the distances and select the top k neighbors\n",
        "sorted_distances = sorted(distances, key=lambda x: x[0])\n",
        "k_nearest_neighbors = sorted_distances[:k]\n",
        "\n",
        "# Calculate the weighted average of the costs of the k nearest neighbors\n",
        "weighted_cost_sum = sum(neighbor[1] / neighbor[0] for neighbor in k_nearest_neighbors)\n",
        "weighted_distance_sum = sum(1 / neighbor[0] for neighbor in k_nearest_neighbors)\n",
        "predicted_cost = weighted_cost_sum / weighted_distance_sum\n",
        "\n",
        "print(f\"Predicted cost for (length={test_length}, weight={test_weight}): {predicted_cost:.2f}\")\n"
      ]
    },
    {
      "cell_type": "code",
      "source": [],
      "metadata": {
        "id": "CObMTO180jmC"
      },
      "execution_count": null,
      "outputs": []
    }
  ]
}