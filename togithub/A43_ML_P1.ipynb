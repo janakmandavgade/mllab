{
  "nbformat": 4,
  "nbformat_minor": 0,
  "metadata": {
    "colab": {
      "provenance": []
    },
    "kernelspec": {
      "name": "python3",
      "display_name": "Python 3"
    },
    "language_info": {
      "name": "python"
    }
  },
  "cells": [
    {
      "cell_type": "markdown",
      "source": [
        "Name: Janak Mandavgade\n",
        "\n",
        "Sec : A\n",
        "\n",
        "Roll no : 43  \n",
        "\n",
        "Batch : A2\n",
        "\n",
        "Subject : ML Lab\n",
        "\n",
        "Aim : To implement Find S algorithm to find maximally specific hypothesis on two given datasets."
      ],
      "metadata": {
        "id": "16c5abyfTq7L"
      }
    },
    {
      "cell_type": "markdown",
      "source": [
        "Dataset 1 - EG2"
      ],
      "metadata": {
        "id": "gYBuJC6fuLV8"
      }
    },
    {
      "cell_type": "code",
      "execution_count": null,
      "metadata": {
        "colab": {
          "base_uri": "https://localhost:8080/"
        },
        "id": "7W5hOXqkKAq3",
        "outputId": "4586f2f3-9730-4087-ec35-f3e37eacfe2f"
      },
      "outputs": [
        {
          "output_type": "stream",
          "name": "stdout",
          "text": [
            "Mounted at /content/gdrive\n"
          ]
        }
      ],
      "source": [
        "from google.colab import drive\n",
        "drive.mount('/content/gdrive')"
      ]
    },
    {
      "cell_type": "code",
      "source": [
        "import pandas as pd\n",
        "import numpy as np\n",
        "\n",
        "\n",
        "data = pd.read_csv(\"/content/gdrive/MyDrive/eg2.csv\")\n",
        "print(data)"
      ],
      "metadata": {
        "colab": {
          "base_uri": "https://localhost:8080/"
        },
        "id": "roz-WLPrKl7r",
        "outputId": "4cbb5419-cca7-499f-93f3-d6047e3fdfee"
      },
      "execution_count": null,
      "outputs": [
        {
          "output_type": "stream",
          "name": "stdout",
          "text": [
            "   color height width class\n",
            "0    red  short  thin    no\n",
            "1   blue   tall   fat   yes\n",
            "2  green  short   fat    no\n",
            "3  green   tall  thin   yes\n",
            "4   blue  short  thin    no\n"
          ]
        }
      ]
    },
    {
      "cell_type": "code",
      "source": [
        "concepts = np.array(data)[:,:-1]\n",
        "print(concepts)"
      ],
      "metadata": {
        "colab": {
          "base_uri": "https://localhost:8080/"
        },
        "id": "hnmcQoRkKmAq",
        "outputId": "cc2e99cd-683b-4fcf-e0f5-79798d7a362f"
      },
      "execution_count": null,
      "outputs": [
        {
          "output_type": "stream",
          "name": "stdout",
          "text": [
            "[['red' 'short' 'thin']\n",
            " ['blue' 'tall' 'fat']\n",
            " ['green' 'short' 'fat']\n",
            " ['green' 'tall' 'thin']\n",
            " ['blue' 'short' 'thin']]\n"
          ]
        }
      ]
    },
    {
      "cell_type": "code",
      "source": [
        "target = np.array(data)[:,-1]\n",
        "print(target)"
      ],
      "metadata": {
        "colab": {
          "base_uri": "https://localhost:8080/"
        },
        "id": "UMUi4rajKmCz",
        "outputId": "90b778ef-c746-45cc-bfc4-96eaa8edec1a"
      },
      "execution_count": null,
      "outputs": [
        {
          "output_type": "stream",
          "name": "stdout",
          "text": [
            "['no' 'yes' 'no' 'yes' 'no']\n"
          ]
        }
      ]
    },
    {
      "cell_type": "code",
      "source": [
        "def train(concept,target):\n",
        "  for i, val in enumerate(target):\n",
        "    if val == 'yes' :\n",
        "      specific_h = concept[i].copy()\n",
        "      break\n",
        "\n",
        "  for i ,val in enumerate(concept):\n",
        "    if target[i] == 'yes':\n",
        "      for x in range(len(specific_h)):\n",
        "        if (val[x]!=specific_h[x]) :\n",
        "          specific_h[x] = '?'\n",
        "        else:\n",
        "          pass\n",
        "  return specific_h\n",
        "\n",
        "\n",
        "print(train(concepts,target))"
      ],
      "metadata": {
        "colab": {
          "base_uri": "https://localhost:8080/"
        },
        "id": "Cse_XFaGKmFC",
        "outputId": "dd0e4733-c78a-4ad9-8a82-76ad9fa02290"
      },
      "execution_count": null,
      "outputs": [
        {
          "output_type": "stream",
          "name": "stdout",
          "text": [
            "['?' 'tall' '?']\n"
          ]
        }
      ]
    },
    {
      "cell_type": "markdown",
      "source": [
        "DataSet - 2 : Enjoysport.csv"
      ],
      "metadata": {
        "id": "DHZRim7dt1E8"
      }
    },
    {
      "cell_type": "code",
      "source": [
        "import pandas as pd\n",
        "import numpy as np\n",
        "\n",
        "\n",
        "data = pd.read_csv(\"/content/gdrive/MyDrive/enjoysport.csv\")\n",
        "print(data)"
      ],
      "metadata": {
        "colab": {
          "base_uri": "https://localhost:8080/"
        },
        "outputId": "4aabb648-e3bf-4e39-86f8-af9565d0bec5",
        "id": "7VLfGErHudAZ"
      },
      "execution_count": null,
      "outputs": [
        {
          "output_type": "stream",
          "name": "stdout",
          "text": [
            "     sky airtemp humidity    wind water forcast enjoysport\n",
            "0  sunny    warm   normal  strong  warm    same        yes\n",
            "1  sunny    warm     high  strong  warm    same        yes\n",
            "2  rainy    cold     high  strong  warm  change         no\n",
            "3  sunny    warm     high  strong  cool  change        yes\n"
          ]
        }
      ]
    },
    {
      "cell_type": "code",
      "source": [
        "concepts = np.array(data)[:,:-1]\n",
        "print(concepts)"
      ],
      "metadata": {
        "colab": {
          "base_uri": "https://localhost:8080/"
        },
        "outputId": "31828edf-b226-4d18-9f6a-1a0785467417",
        "id": "MnqgTPxqudAc"
      },
      "execution_count": null,
      "outputs": [
        {
          "output_type": "stream",
          "name": "stdout",
          "text": [
            "[['sunny' 'warm' 'normal' 'strong' 'warm' 'same']\n",
            " ['sunny' 'warm' 'high' 'strong' 'warm' 'same']\n",
            " ['rainy' 'cold' 'high' 'strong' 'warm' 'change']\n",
            " ['sunny' 'warm' 'high' 'strong' 'cool' 'change']]\n"
          ]
        }
      ]
    },
    {
      "cell_type": "code",
      "source": [
        "target = np.array(data)[:,-1]\n",
        "print(target)"
      ],
      "metadata": {
        "colab": {
          "base_uri": "https://localhost:8080/"
        },
        "outputId": "337b1652-ccbf-434d-f490-d23686e2cc3b",
        "id": "ErMekfvLudAd"
      },
      "execution_count": null,
      "outputs": [
        {
          "output_type": "stream",
          "name": "stdout",
          "text": [
            "['yes' 'yes' 'no' 'yes']\n"
          ]
        }
      ]
    },
    {
      "cell_type": "code",
      "source": [
        "def train(concept,target):\n",
        "  for i, val in enumerate(target):\n",
        "    if val == 'yes' :\n",
        "      specific_h = concept[i].copy()\n",
        "      break\n",
        "\n",
        "  for i ,val in enumerate(concept):\n",
        "    if target[i] == 'yes':\n",
        "      for x in range(len(specific_h)):\n",
        "        if (val[x]!=specific_h[x]) :\n",
        "          specific_h[x] = '?'\n",
        "        else:\n",
        "          pass\n",
        "  return specific_h\n",
        "\n",
        "\n",
        "print(train(concepts,target))"
      ],
      "metadata": {
        "colab": {
          "base_uri": "https://localhost:8080/"
        },
        "outputId": "c90186bf-a635-434c-ad1b-1845589e4570",
        "id": "egrr7yXsudAe"
      },
      "execution_count": null,
      "outputs": [
        {
          "output_type": "stream",
          "name": "stdout",
          "text": [
            "['sunny' 'warm' '?' 'strong' '?' '?']\n"
          ]
        }
      ]
    },
    {
      "cell_type": "code",
      "source": [],
      "metadata": {
        "id": "bLZYLoJ_KmHD"
      },
      "execution_count": null,
      "outputs": []
    },
    {
      "cell_type": "code",
      "source": [],
      "metadata": {
        "id": "AnFq0vcVKmLD"
      },
      "execution_count": null,
      "outputs": []
    },
    {
      "cell_type": "code",
      "source": [],
      "metadata": {
        "id": "4G_agLGRKmMr"
      },
      "execution_count": null,
      "outputs": []
    }
  ]
}