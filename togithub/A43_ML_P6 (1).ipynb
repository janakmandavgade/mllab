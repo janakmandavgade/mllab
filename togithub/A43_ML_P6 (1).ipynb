{
  "nbformat": 4,
  "nbformat_minor": 0,
  "metadata": {
    "colab": {
      "provenance": []
    },
    "kernelspec": {
      "name": "python3",
      "display_name": "Python 3"
    },
    "language_info": {
      "name": "python"
    }
  },
  "cells": [
    {
      "cell_type": "markdown",
      "source": [
        "Name: Janak Mandavgade\n",
        "\n",
        "Sec : A\n",
        "\n",
        "Roll no : 43  \n",
        "\n",
        "Batch : A2\n",
        "\n",
        "Subject : ML Lab\n",
        "\n",
        "Aim : To implement the perceptron algorithm for AND OR and NOR  gate."
      ],
      "metadata": {
        "id": "HznL86uI5ryO"
      }
    },
    {
      "cell_type": "code",
      "execution_count": null,
      "metadata": {
        "colab": {
          "base_uri": "https://localhost:8080/"
        },
        "id": "ezH8N5pE3lQx",
        "outputId": "a04fe5fd-3ef5-47da-f893-e5aa5d6f5260"
      },
      "outputs": [
        {
          "output_type": "stream",
          "name": "stdout",
          "text": [
            "AND(0, 1) = 0\n",
            "AND(1, 0) = 0\n",
            "AND(0, 0) = 0\n",
            "AND(1, 1) = 1\n",
            "=========================\n",
            "OR(0, 1) = 1\n",
            "OR(1, 0) = 1\n",
            "OR(0, 0) = 0\n",
            "OR(1, 1) = 1\n",
            "=========================\n",
            "NOR(0, 1) = 0\n",
            "NOR(1, 0) = 0\n",
            "NOR(0, 0) = 1\n",
            "NOR(1, 1) = 0\n",
            "=========================\n",
            "NOT(0) = 1\n",
            "NOT(1) = 0\n"
          ]
        }
      ],
      "source": [
        "import numpy as np\n",
        "\n",
        "def conditionFunction(g):\n",
        "  if g>= 0:\n",
        "    return 1\n",
        "  else:\n",
        "    return 0\n",
        "\n",
        "def perceptron(x, w, b):\n",
        "  g=np.dot(w, x)+b\n",
        "  y=conditionFunction(g)\n",
        "  return y\n",
        "\n",
        "def AndLogic(x):\n",
        "  w=np.array([1, 1])\n",
        "  b=-1.5\n",
        "  return perceptron(x, w, b)\n",
        "\n",
        "def ORLogic(x):\n",
        "  w=np.array([1, 1])\n",
        "  b=-0.5\n",
        "  return perceptron(x, w, b)\n",
        "\n",
        "def NOTLogic(x):\n",
        "    wNOT = -1\n",
        "    bNOT = 0.5\n",
        "    return perceptron(x, wNOT, bNOT)\n",
        "\n",
        "def NORLogic(x):\n",
        "   output_OR = ORLogic(x)\n",
        "   output_NOT = NOTLogic(output_OR)\n",
        "   return output_NOT\n",
        "\n",
        "\n",
        "test1 = np.array([0, 1])\n",
        "test2 = np.array([1, 0])\n",
        "test3 = np.array([0, 0])\n",
        "test4 = np.array([1, 1])\n",
        "test5 = np.array([0])\n",
        "test6 = np.array([1])\n",
        "\n",
        "print(\"AND({}, {}) = {}\".format(0, 1, AndLogic(test1)))\n",
        "print(\"AND({}, {}) = {}\".format(1, 0,  AndLogic(test2)))\n",
        "print(\"AND({}, {}) = {}\".format(0, 0,  AndLogic(test3)))\n",
        "print(\"AND({}, {}) = {}\".format(1, 1,  AndLogic(test4)))\n",
        "print(\"=========================\")\n",
        "print(\"OR({}, {}) = {}\".format(0, 1, ORLogic(test1)))\n",
        "print(\"OR({}, {}) = {}\".format(1, 0, ORLogic(test2)))\n",
        "print(\"OR({}, {}) = {}\".format(0, 0, ORLogic(test3)))\n",
        "print(\"OR({}, {}) = {}\".format(1, 1, ORLogic(test4)))\n",
        "print(\"=========================\")\n",
        "print(\"NOR({}, {}) = {}\".format(0, 1, NORLogic(test1)))\n",
        "print(\"NOR({}, {}) = {}\".format(1, 0, NORLogic(test2)))\n",
        "print(\"NOR({}, {}) = {}\".format(0, 0, NORLogic(test3)))\n",
        "print(\"NOR({}, {}) = {}\".format(1, 1, NORLogic(test4)))\n",
        "print(\"=========================\")\n",
        "print(\"NOT({}) = {}\".format(0, NOTLogic(test5)))\n",
        "print(\"NOT({}) = {}\".format(1, NOTLogic(test6)))"
      ]
    }
  ]
}